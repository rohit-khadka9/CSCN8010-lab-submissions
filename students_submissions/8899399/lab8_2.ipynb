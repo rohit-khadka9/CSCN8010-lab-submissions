{
 "cells": [
  {
   "cell_type": "markdown",
   "metadata": {},
   "source": [
    "# Lab 8 - A Dot product and a Matrix Multiplication in PyTorch and Tensorflow\n",
    "\n",
    "Using Tensorflow: \n",
    "  * Calculate the dot product between the same vectors as above (re-define them in Tensorflow) \n",
    "  * Calculate the matrix multiplication of the same matrics as above (re-define them in Tensorflow) "
   ]
  },
  {
   "cell_type": "code",
   "execution_count": 1,
   "metadata": {},
   "outputs": [
    {
     "name": "stderr",
     "output_type": "stream",
     "text": [
      "2023-11-10 10:27:25.936754: I tensorflow/core/util/port.cc:110] oneDNN custom operations are on. You may see slightly different numerical results due to floating-point round-off errors from different computation orders. To turn them off, set the environment variable `TF_ENABLE_ONEDNN_OPTS=0`.\n",
      "2023-11-10 10:27:26.137153: I tensorflow/core/platform/cpu_feature_guard.cc:182] This TensorFlow binary is optimized to use available CPU instructions in performance-critical operations.\n",
      "To enable the following instructions: AVX2 AVX512F AVX512_VNNI FMA, in other operations, rebuild TensorFlow with the appropriate compiler flags.\n"
     ]
    }
   ],
   "source": [
    "import tensorflow as tf\n",
    "import numpy as np"
   ]
  },
  {
   "cell_type": "code",
   "execution_count": 8,
   "metadata": {},
   "outputs": [
    {
     "name": "stdout",
     "output_type": "stream",
     "text": [
      "Dot Product of A and B 106.0\n",
      "Dot Product of B and A: tf.Tensor(106.0, shape=(), dtype=float32)\n"
     ]
    }
   ],
   "source": [
    "# Defining two vectors using TensorFlow\n",
    "vectorA = tf.constant([9.0, 1.0, 5.0], dtype=tf.float32)\n",
    "vectorB = tf.constant([7.0, 3.0, 8.0], dtype=tf.float32)\n",
    "\n",
    "# Calculate the dot product\n",
    "dot_productA = tf.tensordot(vectorA, vectorB, axes=1)\n",
    "dot_productB = tf.tensordot(vectorB, vectorA, axes=1)\n",
    "\n",
    "\n",
    "print(\"Dot Product of A and B\", dot_productA.numpy())\n",
    "print(\"Dot Product of B and A:\", dot_productB)\n"
   ]
  },
  {
   "cell_type": "markdown",
   "metadata": {},
   "source": [
    "dot product of A and B is equal to dot product of B and A."
   ]
  },
  {
   "cell_type": "code",
   "execution_count": 3,
   "metadata": {},
   "outputs": [],
   "source": [
    "# defining the matrix\n",
    "A = tf.constant([[4., 1.],[1., 6.]])\n",
    "B = tf.constant([[4., 3.],[8., 8.]])\n"
   ]
  },
  {
   "cell_type": "code",
   "execution_count": 5,
   "metadata": {},
   "outputs": [
    {
     "name": "stdout",
     "output_type": "stream",
     "text": [
      "Matrix multiplication A and B  :  tf.Tensor(\n",
      "[[24. 20.]\n",
      " [52. 51.]], shape=(2, 2), dtype=float32)\n"
     ]
    }
   ],
   "source": [
    "matmulAB = tf.matmul(A,B)\n",
    "\n",
    "print(\"Matrix multiplication A and B  : \", matmulAB)"
   ]
  },
  {
   "cell_type": "code",
   "execution_count": 6,
   "metadata": {},
   "outputs": [
    {
     "name": "stdout",
     "output_type": "stream",
     "text": [
      "Matrix multiplication B and A  :  tf.Tensor(\n",
      "[[19. 22.]\n",
      " [40. 56.]], shape=(2, 2), dtype=float32)\n"
     ]
    }
   ],
   "source": [
    "matmulBA = B @ A\n",
    "print(\"Matrix multiplication B and A  : \", matmulBA)"
   ]
  },
  {
   "cell_type": "markdown",
   "metadata": {},
   "source": [
    "Matrix multiplication of A and B is not equal to matrix multiplication of B and A"
   ]
  }
 ],
 "metadata": {
  "kernelspec": {
   "display_name": "tensorflow_cpu",
   "language": "python",
   "name": "tensorflow_cpu"
  },
  "language_info": {
   "codemirror_mode": {
    "name": "ipython",
    "version": 3
   },
   "file_extension": ".py",
   "mimetype": "text/x-python",
   "name": "python",
   "nbconvert_exporter": "python",
   "pygments_lexer": "ipython3",
   "version": "3.10.12"
  }
 },
 "nbformat": 4,
 "nbformat_minor": 2
}
