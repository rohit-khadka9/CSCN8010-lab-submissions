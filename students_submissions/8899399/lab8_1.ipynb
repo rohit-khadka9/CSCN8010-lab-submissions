{
 "cells": [
  {
   "cell_type": "markdown",
   "metadata": {},
   "source": [
    "# Lab 8 - A Dot product and a Matrix Multiplication in PyTorch and Tensorflow\n",
    "\n",
    "Using PyTorch: \n",
    "  * Calculate the dot product between two vectors each of length 3 \n",
    "  * Calculate the matrix multiplication of two 2-dimensional matrices, each with a size of (2,2) \n",
    "\n"
   ]
  },
  {
   "cell_type": "code",
   "execution_count": 3,
   "metadata": {},
   "outputs": [],
   "source": [
    "# Using PyTorch\n",
    "import torch\n",
    "import sys\n",
    "import torch\n",
    "import helpers as h"
   ]
  },
  {
   "cell_type": "code",
   "execution_count": 6,
   "metadata": {},
   "outputs": [],
   "source": [
    "# defining two vectors of length 3\n",
    "vectorA = torch.tensor([8.0, 8.0, 9.0])\n",
    "vectorB = torch.tensor([3.0, 9.0, 9.0])\n"
   ]
  },
  {
   "cell_type": "code",
   "execution_count": 8,
   "metadata": {},
   "outputs": [
    {
     "name": "stdout",
     "output_type": "stream",
     "text": [
      "tensor([8., 8., 9.])\n",
      "Type         <class 'torch.Tensor'>\n",
      "dtype        torch.float32\n",
      "Dimension    1\n",
      "Shape        (3,)\n",
      "tensor([3., 9., 9.])\n",
      "Type         <class 'torch.Tensor'>\n",
      "dtype        torch.float32\n",
      "Dimension    1\n",
      "Shape        (3,)\n"
     ]
    }
   ],
   "source": [
    "h.print_tensor_info(vectorA)\n",
    "h.print_tensor_info(vectorB)"
   ]
  },
  {
   "cell_type": "code",
   "execution_count": 20,
   "metadata": {},
   "outputs": [],
   "source": [
    "# Calculating the dot product\n",
    "dot_productA = vectorA.dot(vectorB)\n",
    "dot_productB = vectorB.dot(vectorA)\n",
    "\n",
    "\n"
   ]
  },
  {
   "cell_type": "code",
   "execution_count": 21,
   "metadata": {},
   "outputs": [
    {
     "name": "stdout",
     "output_type": "stream",
     "text": [
      "Dot Product of A and B: tensor(177.)\n",
      "Dot Product of B and A: tensor(177.)\n"
     ]
    }
   ],
   "source": [
    "# Printing the result\n",
    "print(\"Dot Product of A and B:\", dot_productA)\n",
    "print(\"Dot Product of B and A:\", dot_productB)\n",
    "\n"
   ]
  },
  {
   "cell_type": "markdown",
   "metadata": {},
   "source": [
    "dot product of A and B is equal to dot product of B and A."
   ]
  },
  {
   "cell_type": "code",
   "execution_count": 16,
   "metadata": {},
   "outputs": [
    {
     "name": "stdout",
     "output_type": "stream",
     "text": [
      "tensor([[4., 1.],\n",
      "        [1., 6.]])\n",
      "tensor([[4., 3.],\n",
      "        [8., 8.]])\n"
     ]
    }
   ],
   "source": [
    "A = torch.tensor([[4., 1.],[1., 6.]])\n",
    "B = torch.tensor([[4., 3.],[8., 8.]])\n",
    "\n",
    "print(A)\n",
    "print(B)"
   ]
  },
  {
   "cell_type": "code",
   "execution_count": 19,
   "metadata": {},
   "outputs": [
    {
     "name": "stdout",
     "output_type": "stream",
     "text": [
      "Matrix multiplication A and B  :  tensor([[24., 20.],\n",
      "        [52., 51.]])\n"
     ]
    }
   ],
   "source": [
    "# performing matrix multiplication \n",
    "matmul = torch.matmul(A, B)\n",
    "print(\"Matrix multiplication A and B  : \", matmul)"
   ]
  },
  {
   "cell_type": "code",
   "execution_count": 18,
   "metadata": {},
   "outputs": [
    {
     "name": "stdout",
     "output_type": "stream",
     "text": [
      " Matrix multiplication of B and A is  tensor([[19., 22.],\n",
      "        [40., 56.]])\n"
     ]
    }
   ],
   "source": [
    "# matrix multiplication of B, A\n",
    "matmulBA = B.matmul(A)\n",
    "print(\" Matrix multiplication of B and A is \",matmulBA)"
   ]
  },
  {
   "cell_type": "markdown",
   "metadata": {},
   "source": [
    "Matrix multiplication of A and B is not equal to matrix multiplication of B and A"
   ]
  }
 ],
 "metadata": {
  "kernelspec": {
   "display_name": "pytorch_cpu",
   "language": "python",
   "name": "pytorch_cpu"
  },
  "language_info": {
   "codemirror_mode": {
    "name": "ipython",
    "version": 3
   },
   "file_extension": ".py",
   "mimetype": "text/x-python",
   "name": "python",
   "nbconvert_exporter": "python",
   "pygments_lexer": "ipython3",
   "version": "3.10.12"
  }
 },
 "nbformat": 4,
 "nbformat_minor": 2
}
